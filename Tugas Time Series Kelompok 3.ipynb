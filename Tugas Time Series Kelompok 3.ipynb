{
 "cells": [
  {
   "cell_type": "markdown",
   "id": "99044b7a",
   "metadata": {},
   "source": [
    "# Tugas Time Series\n",
    "\n",
    "<h3>Kelompok 3:</h3>\n",
    "\n",
    "- (2001984) Hagai Brayen Setiawan\n",
    "- (2001680) Muhammad Ridha Samudra\n",
    "- (2000831) Nyoman Ari Satyadharma\n",
    "- (2007874) Raihan Fitrah V Ramadhan"
   ]
  },
  {
   "cell_type": "markdown",
   "id": "bea710c0",
   "metadata": {},
   "source": [
    "<h2> Overview </h2>\n",
    "\n",
    "Dataset yang digunakan merupakan nilai tukar mata uang Dollar AS terhadap Rupiah Indonesia\n",
    "\n",
    "Sumber Dataset: https://www.bi.go.id/id/statistik/informasi-kurs/transaksi-bi/default.aspx"
   ]
  },
  {
   "cell_type": "markdown",
   "id": "b152f74a",
   "metadata": {},
   "source": [
    "## Import Library"
   ]
  },
  {
   "cell_type": "code",
   "execution_count": 30,
   "id": "7d3ac2c3",
   "metadata": {},
   "outputs": [],
   "source": [
    "import pandas as pd\n",
    "import numpy as np\n",
    "import matplotlib.pyplot as plt\n",
    "import seaborn as sns\n",
    "import math\n",
    "import datetime\n",
    "%matplotlib inline"
   ]
  },
  {
   "cell_type": "markdown",
   "id": "064c8b12",
   "metadata": {},
   "source": [
    "## Import dan Cek Atribut Dataset"
   ]
  },
  {
   "cell_type": "code",
   "execution_count": 14,
   "id": "b41df866",
   "metadata": {},
   "outputs": [
    {
     "data": {
      "text/html": [
       "<div>\n",
       "<style scoped>\n",
       "    .dataframe tbody tr th:only-of-type {\n",
       "        vertical-align: middle;\n",
       "    }\n",
       "\n",
       "    .dataframe tbody tr th {\n",
       "        vertical-align: top;\n",
       "    }\n",
       "\n",
       "    .dataframe thead th {\n",
       "        text-align: right;\n",
       "    }\n",
       "</style>\n",
       "<table border=\"1\" class=\"dataframe\">\n",
       "  <thead>\n",
       "    <tr style=\"text-align: right;\">\n",
       "      <th></th>\n",
       "      <th>No</th>\n",
       "      <th>Nilai</th>\n",
       "      <th>Kurs Jual</th>\n",
       "      <th>Kurs Beli</th>\n",
       "      <th>Tanggal</th>\n",
       "    </tr>\n",
       "  </thead>\n",
       "  <tbody>\n",
       "    <tr>\n",
       "      <th>0</th>\n",
       "      <td>1</td>\n",
       "      <td>1</td>\n",
       "      <td>14175.53</td>\n",
       "      <td>14034.48</td>\n",
       "      <td>12/31/2020</td>\n",
       "    </tr>\n",
       "    <tr>\n",
       "      <th>1</th>\n",
       "      <td>2</td>\n",
       "      <td>1</td>\n",
       "      <td>14175.53</td>\n",
       "      <td>14034.48</td>\n",
       "      <td>12/30/2020</td>\n",
       "    </tr>\n",
       "    <tr>\n",
       "      <th>2</th>\n",
       "      <td>3</td>\n",
       "      <td>1</td>\n",
       "      <td>14239.85</td>\n",
       "      <td>14098.16</td>\n",
       "      <td>12/29/2020</td>\n",
       "    </tr>\n",
       "    <tr>\n",
       "      <th>3</th>\n",
       "      <td>4</td>\n",
       "      <td>1</td>\n",
       "      <td>14254.92</td>\n",
       "      <td>14113.08</td>\n",
       "      <td>12/28/2020</td>\n",
       "    </tr>\n",
       "    <tr>\n",
       "      <th>4</th>\n",
       "      <td>5</td>\n",
       "      <td>1</td>\n",
       "      <td>14353.41</td>\n",
       "      <td>14210.59</td>\n",
       "      <td>12/25/2020</td>\n",
       "    </tr>\n",
       "  </tbody>\n",
       "</table>\n",
       "</div>"
      ],
      "text/plain": [
       "   No  Nilai  Kurs Jual  Kurs Beli      Tanggal\n",
       "0   1      1   14175.53   14034.48  12/31/2020 \n",
       "1   2      1   14175.53   14034.48  12/30/2020 \n",
       "2   3      1   14239.85   14098.16  12/29/2020 \n",
       "3   4      1   14254.92   14113.08  12/28/2020 \n",
       "4   5      1   14353.41   14210.59  12/25/2020 "
      ]
     },
     "execution_count": 14,
     "metadata": {},
     "output_type": "execute_result"
    }
   ],
   "source": [
    "df = pd.read_csv(\"C:\\\\University Workspace\\\\Data Mining\\\\Time Series\\\\Kurs Transaksi Harian USD_IDR BI.csv\")\n",
    "df.head(5)"
   ]
  },
  {
   "cell_type": "code",
   "execution_count": 15,
   "id": "1e3589b3",
   "metadata": {},
   "outputs": [
    {
     "name": "stdout",
     "output_type": "stream",
     "text": [
      "<class 'pandas.core.frame.DataFrame'>\n",
      "RangeIndex: 2453 entries, 0 to 2452\n",
      "Data columns (total 5 columns):\n",
      " #   Column     Non-Null Count  Dtype  \n",
      "---  ------     --------------  -----  \n",
      " 0   No         2453 non-null   int64  \n",
      " 1   Nilai      2453 non-null   int64  \n",
      " 2   Kurs Jual  2453 non-null   float64\n",
      " 3   Kurs Beli  2453 non-null   float64\n",
      " 4   Tanggal    2453 non-null   object \n",
      "dtypes: float64(2), int64(2), object(1)\n",
      "memory usage: 95.9+ KB\n"
     ]
    }
   ],
   "source": [
    "df.info()"
   ]
  },
  {
   "cell_type": "markdown",
   "id": "3a85d225",
   "metadata": {},
   "source": [
    "<h4>\n",
    "    Dataset nilai tukar mata uang Dollar AS terhadap Rupiah Indonesia\n",
    "    Terdiri dari atribut No, Nilai, Kurs Jual, Kurs Beli, dan Tanggal\n",
    "</h4>"
   ]
  },
  {
   "cell_type": "markdown",
   "id": "8f63e1cc",
   "metadata": {},
   "source": [
    "## Drop Atribut & Mengubah Datatype Atribut Tanggal"
   ]
  },
  {
   "cell_type": "code",
   "execution_count": 16,
   "id": "54eb7efa",
   "metadata": {},
   "outputs": [],
   "source": [
    "df = df.drop(['No','Nilai'], axis=1)"
   ]
  },
  {
   "cell_type": "code",
   "execution_count": 17,
   "id": "118f1f70",
   "metadata": {},
   "outputs": [
    {
     "data": {
      "text/html": [
       "<div>\n",
       "<style scoped>\n",
       "    .dataframe tbody tr th:only-of-type {\n",
       "        vertical-align: middle;\n",
       "    }\n",
       "\n",
       "    .dataframe tbody tr th {\n",
       "        vertical-align: top;\n",
       "    }\n",
       "\n",
       "    .dataframe thead th {\n",
       "        text-align: right;\n",
       "    }\n",
       "</style>\n",
       "<table border=\"1\" class=\"dataframe\">\n",
       "  <thead>\n",
       "    <tr style=\"text-align: right;\">\n",
       "      <th></th>\n",
       "      <th>Kurs Jual</th>\n",
       "      <th>Kurs Beli</th>\n",
       "    </tr>\n",
       "    <tr>\n",
       "      <th>Tanggal</th>\n",
       "      <th></th>\n",
       "      <th></th>\n",
       "    </tr>\n",
       "  </thead>\n",
       "  <tbody>\n",
       "    <tr>\n",
       "      <th>2020-12-31</th>\n",
       "      <td>14175.53</td>\n",
       "      <td>14034.48</td>\n",
       "    </tr>\n",
       "    <tr>\n",
       "      <th>2020-12-30</th>\n",
       "      <td>14175.53</td>\n",
       "      <td>14034.48</td>\n",
       "    </tr>\n",
       "    <tr>\n",
       "      <th>2020-12-29</th>\n",
       "      <td>14239.85</td>\n",
       "      <td>14098.16</td>\n",
       "    </tr>\n",
       "    <tr>\n",
       "      <th>2020-12-28</th>\n",
       "      <td>14254.92</td>\n",
       "      <td>14113.08</td>\n",
       "    </tr>\n",
       "    <tr>\n",
       "      <th>2020-12-25</th>\n",
       "      <td>14353.41</td>\n",
       "      <td>14210.59</td>\n",
       "    </tr>\n",
       "  </tbody>\n",
       "</table>\n",
       "</div>"
      ],
      "text/plain": [
       "            Kurs Jual  Kurs Beli\n",
       "Tanggal                         \n",
       "2020-12-31   14175.53   14034.48\n",
       "2020-12-30   14175.53   14034.48\n",
       "2020-12-29   14239.85   14098.16\n",
       "2020-12-28   14254.92   14113.08\n",
       "2020-12-25   14353.41   14210.59"
      ]
     },
     "execution_count": 17,
     "metadata": {},
     "output_type": "execute_result"
    }
   ],
   "source": [
    "df['Tanggal'] = pd.to_datetime(df['Tanggal'])\n",
    "df.set_index('Tanggal', inplace=True)\n",
    "df.head()"
   ]
  },
  {
   "cell_type": "markdown",
   "id": "635a84b1",
   "metadata": {},
   "source": [
    "<h4>\n",
    "    Atribut 'No' dan 'Nilai' dihapus \n",
    "    karena atribut Nomor tidak diperlukan\n",
    "    dan semua data atribut Nilai bernilai 1\n",
    "</h4>\n",
    "\n",
    "<h4>\n",
    "    Atribut Tanggal diubah menjadi Index\n",
    "</h4>"
   ]
  },
  {
   "cell_type": "markdown",
   "id": "05fd9047",
   "metadata": {},
   "source": [
    "## Dataset Final"
   ]
  },
  {
   "cell_type": "code",
   "execution_count": 18,
   "id": "201d9817",
   "metadata": {},
   "outputs": [
    {
     "name": "stdout",
     "output_type": "stream",
     "text": [
      "<class 'pandas.core.frame.DataFrame'>\n",
      "DatetimeIndex: 2453 entries, 2020-12-31 to 2011-01-03\n",
      "Data columns (total 2 columns):\n",
      " #   Column     Non-Null Count  Dtype  \n",
      "---  ------     --------------  -----  \n",
      " 0   Kurs Jual  2453 non-null   float64\n",
      " 1   Kurs Beli  2453 non-null   float64\n",
      "dtypes: float64(2)\n",
      "memory usage: 57.5 KB\n"
     ]
    }
   ],
   "source": [
    "df.info()"
   ]
  },
  {
   "cell_type": "code",
   "execution_count": 19,
   "id": "1ac22e41",
   "metadata": {},
   "outputs": [
    {
     "data": {
      "text/html": [
       "<div>\n",
       "<style scoped>\n",
       "    .dataframe tbody tr th:only-of-type {\n",
       "        vertical-align: middle;\n",
       "    }\n",
       "\n",
       "    .dataframe tbody tr th {\n",
       "        vertical-align: top;\n",
       "    }\n",
       "\n",
       "    .dataframe thead th {\n",
       "        text-align: right;\n",
       "    }\n",
       "</style>\n",
       "<table border=\"1\" class=\"dataframe\">\n",
       "  <thead>\n",
       "    <tr style=\"text-align: right;\">\n",
       "      <th></th>\n",
       "      <th>Kurs Jual</th>\n",
       "      <th>Kurs Beli</th>\n",
       "    </tr>\n",
       "    <tr>\n",
       "      <th>Tanggal</th>\n",
       "      <th></th>\n",
       "      <th></th>\n",
       "    </tr>\n",
       "  </thead>\n",
       "  <tbody>\n",
       "    <tr>\n",
       "      <th>2020-12-31</th>\n",
       "      <td>14175.53</td>\n",
       "      <td>14034.48</td>\n",
       "    </tr>\n",
       "    <tr>\n",
       "      <th>2020-12-30</th>\n",
       "      <td>14175.53</td>\n",
       "      <td>14034.48</td>\n",
       "    </tr>\n",
       "    <tr>\n",
       "      <th>2020-12-29</th>\n",
       "      <td>14239.85</td>\n",
       "      <td>14098.16</td>\n",
       "    </tr>\n",
       "    <tr>\n",
       "      <th>2020-12-28</th>\n",
       "      <td>14254.92</td>\n",
       "      <td>14113.08</td>\n",
       "    </tr>\n",
       "    <tr>\n",
       "      <th>2020-12-25</th>\n",
       "      <td>14353.41</td>\n",
       "      <td>14210.59</td>\n",
       "    </tr>\n",
       "    <tr>\n",
       "      <th>...</th>\n",
       "      <td>...</td>\n",
       "      <td>...</td>\n",
       "    </tr>\n",
       "    <tr>\n",
       "      <th>2011-01-07</th>\n",
       "      <td>9047.00</td>\n",
       "      <td>8957.00</td>\n",
       "    </tr>\n",
       "    <tr>\n",
       "      <th>2011-01-06</th>\n",
       "      <td>9039.00</td>\n",
       "      <td>8949.00</td>\n",
       "    </tr>\n",
       "    <tr>\n",
       "      <th>2011-01-05</th>\n",
       "      <td>9032.00</td>\n",
       "      <td>8942.00</td>\n",
       "    </tr>\n",
       "    <tr>\n",
       "      <th>2011-01-04</th>\n",
       "      <td>9021.00</td>\n",
       "      <td>8931.00</td>\n",
       "    </tr>\n",
       "    <tr>\n",
       "      <th>2011-01-03</th>\n",
       "      <td>9021.00</td>\n",
       "      <td>8931.00</td>\n",
       "    </tr>\n",
       "  </tbody>\n",
       "</table>\n",
       "<p>2453 rows × 2 columns</p>\n",
       "</div>"
      ],
      "text/plain": [
       "            Kurs Jual  Kurs Beli\n",
       "Tanggal                         \n",
       "2020-12-31   14175.53   14034.48\n",
       "2020-12-30   14175.53   14034.48\n",
       "2020-12-29   14239.85   14098.16\n",
       "2020-12-28   14254.92   14113.08\n",
       "2020-12-25   14353.41   14210.59\n",
       "...               ...        ...\n",
       "2011-01-07    9047.00    8957.00\n",
       "2011-01-06    9039.00    8949.00\n",
       "2011-01-05    9032.00    8942.00\n",
       "2011-01-04    9021.00    8931.00\n",
       "2011-01-03    9021.00    8931.00\n",
       "\n",
       "[2453 rows x 2 columns]"
      ]
     },
     "execution_count": 19,
     "metadata": {},
     "output_type": "execute_result"
    }
   ],
   "source": [
    "df"
   ]
  },
  {
   "cell_type": "code",
   "execution_count": 20,
   "id": "501b4f54",
   "metadata": {},
   "outputs": [
    {
     "data": {
      "text/html": [
       "<div>\n",
       "<style scoped>\n",
       "    .dataframe tbody tr th:only-of-type {\n",
       "        vertical-align: middle;\n",
       "    }\n",
       "\n",
       "    .dataframe tbody tr th {\n",
       "        vertical-align: top;\n",
       "    }\n",
       "\n",
       "    .dataframe thead th {\n",
       "        text-align: right;\n",
       "    }\n",
       "</style>\n",
       "<table border=\"1\" class=\"dataframe\">\n",
       "  <thead>\n",
       "    <tr style=\"text-align: right;\">\n",
       "      <th></th>\n",
       "      <th>Kurs Jual</th>\n",
       "      <th>Kurs Beli</th>\n",
       "    </tr>\n",
       "  </thead>\n",
       "  <tbody>\n",
       "    <tr>\n",
       "      <th>count</th>\n",
       "      <td>2453.000000</td>\n",
       "      <td>2453.000000</td>\n",
       "    </tr>\n",
       "    <tr>\n",
       "      <th>mean</th>\n",
       "      <td>12413.855650</td>\n",
       "      <td>12290.291647</td>\n",
       "    </tr>\n",
       "    <tr>\n",
       "      <th>std</th>\n",
       "      <td>2069.691546</td>\n",
       "      <td>2049.089880</td>\n",
       "    </tr>\n",
       "    <tr>\n",
       "      <th>min</th>\n",
       "      <td>8502.000000</td>\n",
       "      <td>8418.000000</td>\n",
       "    </tr>\n",
       "    <tr>\n",
       "      <th>25%</th>\n",
       "      <td>9989.000000</td>\n",
       "      <td>9889.000000</td>\n",
       "    </tr>\n",
       "    <tr>\n",
       "      <th>50%</th>\n",
       "      <td>13331.000000</td>\n",
       "      <td>13199.000000</td>\n",
       "    </tr>\n",
       "    <tr>\n",
       "      <th>75%</th>\n",
       "      <td>14062.000000</td>\n",
       "      <td>13922.040000</td>\n",
       "    </tr>\n",
       "    <tr>\n",
       "      <th>max</th>\n",
       "      <td>16824.710000</td>\n",
       "      <td>16657.300000</td>\n",
       "    </tr>\n",
       "  </tbody>\n",
       "</table>\n",
       "</div>"
      ],
      "text/plain": [
       "          Kurs Jual     Kurs Beli\n",
       "count   2453.000000   2453.000000\n",
       "mean   12413.855650  12290.291647\n",
       "std     2069.691546   2049.089880\n",
       "min     8502.000000   8418.000000\n",
       "25%     9989.000000   9889.000000\n",
       "50%    13331.000000  13199.000000\n",
       "75%    14062.000000  13922.040000\n",
       "max    16824.710000  16657.300000"
      ]
     },
     "execution_count": 20,
     "metadata": {},
     "output_type": "execute_result"
    }
   ],
   "source": [
    "df.describe()"
   ]
  },
  {
   "cell_type": "markdown",
   "id": "361fb86b",
   "metadata": {},
   "source": [
    "<h4>\n",
    "    Dataset final yang akan digunakan terdiri dari Kurs Jual dan Kurs Beli\n",
    "</h4>"
   ]
  },
  {
   "cell_type": "markdown",
   "id": "b0aa5272",
   "metadata": {},
   "source": [
    "## Visualisasi"
   ]
  },
  {
   "cell_type": "markdown",
   "id": "0578c541",
   "metadata": {},
   "source": [
    "### Boxplot"
   ]
  },
  {
   "cell_type": "code",
   "execution_count": 22,
   "id": "b3b48ffa",
   "metadata": {},
   "outputs": [
    {
     "data": {
      "text/plain": [
       "<AxesSubplot:xlabel='Kurs Jual'>"
      ]
     },
     "execution_count": 22,
     "metadata": {},
     "output_type": "execute_result"
    },
    {
     "data": {
      "image/png": "[encoded data removed]",
      "text/plain": [
       "<Figure size 432x288 with 1 Axes>"
      ]
     },
     "metadata": {
      "needs_background": "light"
     },
     "output_type": "display_data"
    }
   ],
   "source": [
    "sns.boxplot(x=\"Kurs Jual\", data=df)"
   ]
  },
  {
   "cell_type": "markdown",
   "id": "769e3408",
   "metadata": {},
   "source": [
    "<h4>\n",
    "    Atribut Kurs Jual tidak memiliki Outlier, artinya tidak ada data dengan nilai yang ekstrim\n",
    "</h4>\n",
    "\n",
    "<h4>\n",
    "    Atribut Kurs Jual memiliki nilai Q1 di sekitar 10.000, Median di sekitar 13.500, dan Q3 di sekitar 14.000\n",
    "</h4>"
   ]
  },
  {
   "cell_type": "code",
   "execution_count": 23,
   "id": "04f8157b",
   "metadata": {},
   "outputs": [
    {
     "data": {
      "text/plain": [
       "<AxesSubplot:xlabel='Kurs Beli'>"
      ]
     },
     "execution_count": 23,
     "metadata": {},
     "output_type": "execute_result"
    },
    {
     "data": {
      "image/png": "[encoded data removed]",
      "text/plain": [
       "<Figure size 432x288 with 1 Axes>"
      ]
     },
     "metadata": {
      "needs_background": "light"
     },
     "output_type": "display_data"
    }
   ],
   "source": [
    "sns.boxplot(x=\"Kurs Beli\", data=df)"
   ]
  },
  {
   "cell_type": "markdown",
   "id": "aa51bc87",
   "metadata": {},
   "source": [
    "<h4>\n",
    "    Atribut Kurs Beli tidak memiliki Outlier, artinya tidak ada data dengan nilai yang ekstrim\n",
    "</h4>\n",
    "\n",
    "<h4>\n",
    "    Atribut Kurs Jual memiliki nilai Q1 di sekitar 10.000, Median di sekitar 13.500, dan Q3 di sekitar 14.000\n",
    "</h4>"
   ]
  },
  {
   "cell_type": "markdown",
   "id": "b518946b",
   "metadata": {},
   "source": [
    "### Lineplot"
   ]
  },
  {
   "cell_type": "code",
   "execution_count": 27,
   "id": "06969708",
   "metadata": {},
   "outputs": [
    {
     "data": {
      "image/png": "[encoded data removed]",
      "text/plain": [
       "<Figure size 1296x720 with 1 Axes>"
      ]
     },
     "metadata": {
      "needs_background": "light"
     },
     "output_type": "display_data"
    }
   ],
   "source": [
    "plt.figure(figsize=(18, 10)) # resizing the plot\n",
    "df['Kurs Jual'].plot()\n",
    "plt.title('Nilai Kurs Jual') # adding a title\n",
    "plt.xlabel('Tahun') # x label\n",
    "plt.ylabel('Kurs Jual') # y label\n",
    "plt.show()"
   ]
  },
  {
   "cell_type": "markdown",
   "id": "cb27e899",
   "metadata": {},
   "source": [
    "<h4>\n",
    "    Grafik lineplot pada atribut Kurs Jual menunjukan kenaikan nilai tukar mata uang Dollar AS terhadap Rupiah Indonesia dengan nilai tertinggi terdapat di sekitar pertengahan tahun 2020\n",
    "</h4>"
   ]
  },
  {
   "cell_type": "code",
   "execution_count": 29,
   "id": "b055aacd",
   "metadata": {},
   "outputs": [
    {
     "data": {
      "image/png": "[encoded data removed]",
      "text/plain": [
       "<Figure size 1296x720 with 1 Axes>"
      ]
     },
     "metadata": {
      "needs_background": "light"
     },
     "output_type": "display_data"
    }
   ],
   "source": [
    "plt.figure(figsize=(18, 10)) # resizing the plot\n",
    "df['Kurs Beli'].plot()\n",
    "plt.title('Nilai Kurs Beli') # adding a title\n",
    "plt.xlabel('Tahun') # x label\n",
    "plt.ylabel('Kurs Beli') # y label\n",
    "plt.show()"
   ]
  },
  {
   "cell_type": "markdown",
   "id": "c53ae93c",
   "metadata": {},
   "source": [
    "<h4>\n",
    "    Grafik lineplot pada atribut Kurs Beli menunjukan kenaikan nilai tukar mata uang Dollar AS terhadap Rupiah Indonesia dengan nilai tertinggi terdapat di sekitar pertengahan tahun 2020\n",
    "</h4>"
   ]
  },
  {
   "cell_type": "code",
   "execution_count": null,
   "id": "b0596af0",
   "metadata": {},
   "outputs": [],
   "source": []
  },
  {
   "cell_type": "code",
   "execution_count": null,
   "id": "26458611",
   "metadata": {},
   "outputs": [],
   "source": []
  },
  {
   "cell_type": "code",
   "execution_count": null,
   "id": "a5c5d6db",
   "metadata": {},
   "outputs": [],
   "source": []
  },
  {
   "cell_type": "code",
   "execution_count": null,
   "id": "2c46ff78",
   "metadata": {},
   "outputs": [],
   "source": []
  },
  {
   "cell_type": "code",
   "execution_count": null,
   "id": "bed3ed76",
   "metadata": {},
   "outputs": [],
   "source": []
  },
  {
   "cell_type": "code",
   "execution_count": null,
   "id": "bb5f6e81",
   "metadata": {},
   "outputs": [],
   "source": []
  },
  {
   "cell_type": "code",
   "execution_count": null,
   "id": "63a42cdd",
   "metadata": {},
   "outputs": [],
   "source": []
  },
  {
   "cell_type": "code",
   "execution_count": null,
   "id": "a368459c",
   "metadata": {},
   "outputs": [],
   "source": []
  },
  {
   "cell_type": "code",
   "execution_count": null,
   "id": "ac96686f",
   "metadata": {},
   "outputs": [],
   "source": []
  }
 ],
 "metadata": {
  "kernelspec": {
   "display_name": "Python 3",
   "language": "python",
   "name": "python3"
  },
  "language_info": {
   "codemirror_mode": {
    "name": "ipython",
    "version": 3
   },
   "file_extension": ".py",
   "mimetype": "text/x-python",
   "name": "python",
   "nbconvert_exporter": "python",
   "pygments_lexer": "ipython3",
   "version": "3.8.8"
  }
 },
 "nbformat": 4,
 "nbformat_minor": 5
}
